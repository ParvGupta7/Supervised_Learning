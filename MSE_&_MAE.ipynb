{
  "nbformat": 4,
  "nbformat_minor": 0,
  "metadata": {
    "colab": {
      "provenance": []
    },
    "kernelspec": {
      "name": "python3",
      "display_name": "Python 3"
    },
    "language_info": {
      "name": "python"
    }
  },
  "cells": [
    {
      "cell_type": "code",
      "execution_count": null,
      "metadata": {
        "colab": {
          "base_uri": "https://localhost:8080/"
        },
        "id": "S6hgLp8D7xPq",
        "outputId": "b0025cc3-b964-400c-cf10-388cdd4891aa"
      },
      "outputs": [
        {
          "output_type": "stream",
          "name": "stdout",
          "text": [
            "x_list: [0, 1, 2, 3]\n",
            "y_list: [0, 2, 4, 6]\n",
            "Predicted output: [0, 5, 10, 15]\n",
            "Error list: [0, -3, -6, -9]\n",
            "Squared error list: [0, 9, 36, 81]\n",
            "Mean squared error:  31.5\n"
          ]
        }
      ],
      "source": [
        "def Mean_squared_error(x_list,y_list,w,b=0):\n",
        "    print(\"x_list:\",x_list)\n",
        "    print(\"y_list:\",y_list)\n",
        "    predicted_op = []\n",
        "    error_list = []\n",
        "    squared_list = []\n",
        "    n = len(x_list)\n",
        "    for i in range(len(x_list)):\n",
        "      a = x_list[i] * w\n",
        "      predicted_op.append(a)\n",
        "\n",
        "    print(\"Predicted output:\",predicted_op)\n",
        "\n",
        "    for i in range(len(predicted_op)):\n",
        "      a = y_list[i] - predicted_op[i]\n",
        "      error_list.append(a)\n",
        "\n",
        "    print(\"Error list:\",error_list)\n",
        "\n",
        "    summ=0\n",
        "\n",
        "    for i in range(len(error_list)):\n",
        "      a = error_list[i]*error_list[i]\n",
        "      squared_list.append(a)\n",
        "\n",
        "    print(\"Squared error list:\",squared_list)\n",
        "\n",
        "    for i in squared_list:\n",
        "      summ= summ+i\n",
        "\n",
        "    print(\"Mean squared error: \",summ/n)\n",
        "\n",
        "\n",
        "\n",
        "\n",
        "#x_list represents list of inputs features, [x1,x2,....xn]\n",
        "#y_list represents list of expected outputs y.\n",
        "# w represents the weight, and b = 0.\n",
        "# Predicted output is represented by y_cap, y_cap is basically w * x.\n",
        "# We will store the individual values for y_cap, in another list called lst_y_cap.\n",
        "# We will store individual values of (y - y_cap) in another list called error_list.\n",
        "# We will keep a variable, summ =0 and will add each (y-y_cap).\n",
        "# Square each value in error_list and store it to squared_list.\n",
        "# summ/n should give MSE.\n",
        "\n",
        "\n",
        "x = [0,1,2,3]\n",
        "y = [0,2,4,6]\n",
        "\n",
        "Mean_squared_error(x,y,5,0)\n",
        "\n",
        "\n",
        "\n",
        "\n",
        "\n",
        "\n",
        "\n",
        "\n",
        "\n",
        "\n",
        "\n",
        "\n",
        "\n",
        "\n"
      ]
    },
    {
      "cell_type": "code",
      "source": [
        "def Mean_absolute_error(x_list,y_list,w,b=0):\n",
        "    print(\"x_list:\",x_list)\n",
        "    print(\"y_list:\",y_list)\n",
        "    predicted_op = []\n",
        "    error_list = []\n",
        "\n",
        "    n = len(x_list)\n",
        "    for i in range(len(x_list)):\n",
        "      a = x_list[i] * w\n",
        "      predicted_op.append(a)\n",
        "\n",
        "    print(\"Predicted output:\",predicted_op)\n",
        "\n",
        "    for i in range(len(predicted_op)):\n",
        "      a = abs(y_list[i] - predicted_op[i])\n",
        "      error_list.append(a)\n",
        "\n",
        "    print(\"Absolute Error list:\",error_list)\n",
        "\n",
        "    summ=0\n",
        "\n",
        "    for i in error_list:\n",
        "      summ+=i\n",
        "\n",
        "\n",
        "    print(\"Mean absolute error: \",summ/n)\n",
        "\n",
        "\n",
        "\n",
        "x = [0,1,2,3]\n",
        "y = [0,2,4,6]\n",
        "\n",
        "Mean_absolute_error(x,y,5,0)\n"
      ],
      "metadata": {
        "colab": {
          "base_uri": "https://localhost:8080/"
        },
        "id": "LrfZl_DTGR76",
        "outputId": "5b6dfd45-54bd-42df-9e20-aca5eddd296f"
      },
      "execution_count": null,
      "outputs": [
        {
          "output_type": "stream",
          "name": "stdout",
          "text": [
            "x_list: [0, 1, 2, 3]\n",
            "y_list: [0, 2, 4, 6]\n",
            "Predicted output: [0, 5, 10, 15]\n",
            "Absolute Error list: [0, 3, 6, 9]\n",
            "Mean absolute error:  4.5\n"
          ]
        }
      ]
    }
  ]
}
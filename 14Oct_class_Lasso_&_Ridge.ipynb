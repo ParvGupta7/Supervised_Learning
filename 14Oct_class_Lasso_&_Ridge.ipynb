{
  "nbformat": 4,
  "nbformat_minor": 0,
  "metadata": {
    "colab": {
      "provenance": []
    },
    "kernelspec": {
      "name": "python3",
      "display_name": "Python 3"
    },
    "language_info": {
      "name": "python"
    }
  },
  "cells": [
    {
      "cell_type": "code",
      "execution_count": null,
      "metadata": {
        "colab": {
          "base_uri": "https://localhost:8080/"
        },
        "collapsed": true,
        "id": "hKIrk-YkNKUY",
        "outputId": "c29e203f-f131-4e32-f72f-7d4b2667627a"
      },
      "outputs": [
        {
          "output_type": "stream",
          "name": "stdout",
          "text": [
            "[-5.21369632e-01 -4.80885402e-01  1.05448058e-01 -9.95155295e-02\n",
            "  9.05811317e-07 -2.96900236e+00  1.71684723e+00  1.14140894e+00\n",
            "  1.78608947e-01]\n",
            "[-0. -0.  0.  0.  0. -0.  0.  0.  0.]\n",
            "[-5.19071574e-01 -4.77794156e-01  1.05589015e-01 -8.48795182e-02\n",
            "  8.27450951e-07 -2.83592891e+00  1.64191665e+00  1.13973254e+00\n",
            "  1.80420220e-01]\n",
            "0.40752917375286374\n",
            "0.3972234099154518\n",
            "0.4050122758456162\n"
          ]
        }
      ],
      "source": [
        "# Prepare a L1(Lasso)and L2(Ridge) Regression models for prediction of House prices.\n",
        "\n",
        "import numpy as np\n",
        "import pandas as pd\n",
        "import matplotlib.pyplot as plt\n",
        "from sklearn.model_selection import train_test_split\n",
        "from sklearn.linear_model import LinearRegression,Lasso,Ridge #Import Lasso,Ridge\n",
        "from sklearn.metrics import mean_squared_error\n",
        "from sklearn.preprocessing import MinMaxScaler\n",
        "\n",
        "\n",
        "df = pd.read_csv(\"/content/housing (3).csv\")\n",
        "\n",
        "#df.head()\n",
        "\n",
        "#target variable encoding\n",
        "\n",
        "df[\"ocean_proximity\"] = df.groupby(\"ocean_proximity\")[\"median_house_value\"].transform(\"mean\")\n",
        "\n",
        "#df.head()\n",
        "\n",
        "#Feature Scaling: scaling all values 0 to 1, so it doesn't perceive higher numerical values as having more importance.\n",
        "scaler = MinMaxScaler()\n",
        "df1 = pd.DataFrame(scaler.fit_transform(df),columns = df.columns)\n",
        "\n",
        "#df.isnull() to check for null values\n",
        "df1.fillna(999,inplace=True) #inplace = True makes the changes permanent and replaces the null values with 999\n",
        "\n",
        "#Splitting into Training and testing data\n",
        "y = df1[\"median_house_value\"]\n",
        "x = df1.drop(\"median_house_value\",axis=1)\n",
        "\n",
        "x_train,x_test,y_train,y_test = train_test_split(x,y,test_size = 0.3,random_state=1)\n",
        "#Ques:random_state kya hota h\n",
        "\n",
        "#Preparing the 3 Regression Models:\n",
        "linear_model = LinearRegression()\n",
        "lasso_model = Lasso(alpha=0.1)\n",
        "ridge_model = Ridge(alpha=0.1)\n",
        "#alpha is the Regularisation parameter which we are adding as an error term to our model\n",
        "#We are not taking the errors added in the feature. We are only taking the Regularisation parameter. Not taking the error in each feature weight etc that takes time.\n",
        "# So we providing error only as alpha value or Lambda value in here, thats the only penalty term we're providing here.\n",
        "\n",
        "linear_model.fit(x_train,y_train)\n",
        "lasso_model.fit(x_train,y_train)\n",
        "ridge_model.fit(x_train,y_train)\n",
        "\n",
        "\n",
        "print(linear_model.coef_)\n",
        "print(lasso_model.coef_)\n",
        "print(ridge_model.coef_)\n",
        "#ques: coef_ and intercept_ ????\n",
        "print(linear_model.intercept_)\n",
        "print(lasso_model.intercept_)\n",
        "print(ridge_model.intercept_)\n",
        "\n",
        "\n",
        "\n",
        "\n",
        "\n",
        "\n",
        "\n"
      ]
    },
    {
      "cell_type": "code",
      "source": [
        "linear_model.score(x_test,y_test)"
      ],
      "metadata": {
        "colab": {
          "base_uri": "https://localhost:8080/"
        },
        "id": "c54umDzROVAQ",
        "outputId": "810513de-8815-482f-eb6c-eb79238659d0"
      },
      "execution_count": null,
      "outputs": [
        {
          "output_type": "execute_result",
          "data": {
            "text/plain": [
              "0.6363169885864803"
            ]
          },
          "metadata": {},
          "execution_count": 17
        }
      ]
    },
    {
      "cell_type": "code",
      "source": [
        "lasso_model.score(x_test,y_test)"
      ],
      "metadata": {
        "colab": {
          "base_uri": "https://localhost:8080/"
        },
        "id": "5xZXxapuW6zO",
        "outputId": "b375275a-da8b-48cf-90c4-4dea6402a92c"
      },
      "execution_count": null,
      "outputs": [
        {
          "output_type": "execute_result",
          "data": {
            "text/plain": [
              "-0.0005372966032284321"
            ]
          },
          "metadata": {},
          "execution_count": 19
        }
      ]
    },
    {
      "cell_type": "code",
      "source": [
        "ridge_model.score(x_test,y_test)"
      ],
      "metadata": {
        "colab": {
          "base_uri": "https://localhost:8080/"
        },
        "id": "ELK7yp_dW_l2",
        "outputId": "3ee15f4b-501d-46e2-8e00-fcf4f96d1f36"
      },
      "execution_count": null,
      "outputs": [
        {
          "output_type": "execute_result",
          "data": {
            "text/plain": [
              "0.636010311671446"
            ]
          },
          "metadata": {},
          "execution_count": 21
        }
      ]
    },
    {
      "cell_type": "code",
      "source": [
        "# Mean squared error for LinearRegression\n",
        "linear_train_mse = mean_squared_error(y_train,linear_model.predict(x_train))\n",
        "linear_test_mse = mean_squared_error(y_test,linear_model.predict(x_test))\n",
        "print(\"Train:\",linear_train_mse)\n",
        "print(\"Test:\",linear_test_mse)\n",
        "\n"
      ],
      "metadata": {
        "colab": {
          "base_uri": "https://localhost:8080/"
        },
        "id": "tWDZ8WuuXK05",
        "outputId": "b80d3134-3821-4a75-be94-d5b519518870"
      },
      "execution_count": null,
      "outputs": [
        {
          "output_type": "stream",
          "name": "stdout",
          "text": [
            "Train: 0.02023851649428413\n",
            "Test: 0.0203262390236933\n"
          ]
        }
      ]
    },
    {
      "cell_type": "code",
      "source": [
        "#MSE for lasso\n",
        "lasso_train_mse = mean_squared_error(y_train,lasso_model.predict(x_train))\n",
        "lasso_test_mse = mean_squared_error(y_test,lasso_model.predict(x_test))\n",
        "print(\"Train:\",lasso_train_mse)\n",
        "print(\"Test:\",lasso_test_mse)"
      ],
      "metadata": {
        "colab": {
          "base_uri": "https://localhost:8080/"
        },
        "id": "u9SlSXizXcFs",
        "outputId": "3457194f-3745-497d-9255-05da8222ca93"
      },
      "execution_count": null,
      "outputs": [
        {
          "output_type": "stream",
          "name": "stdout",
          "text": [
            "Train: 0.056905352645749696\n",
            "Test: 0.05592001717053842\n"
          ]
        }
      ]
    },
    {
      "cell_type": "code",
      "source": [
        "# MSE for Ridge\n",
        "ridge_train_mse = mean_squared_error(y_train,ridge_model.predict(x_train))\n",
        "ridge_test_mse = mean_squared_error(y_test,ridge_model.predict(x_test))\n",
        "print(\"Train:\",ridge_train_mse)\n",
        "print(\"Test:\",ridge_test_mse)\n"
      ],
      "metadata": {
        "colab": {
          "base_uri": "https://localhost:8080/"
        },
        "id": "kZJjWILdXlC3",
        "outputId": "f78f1042-acf8-47df-a95e-cd225ddd3e72"
      },
      "execution_count": null,
      "outputs": [
        {
          "output_type": "stream",
          "name": "stdout",
          "text": [
            "Train: 0.020242018001132043\n",
            "Test: 0.020343379192693252\n"
          ]
        }
      ]
    }
  ]
}